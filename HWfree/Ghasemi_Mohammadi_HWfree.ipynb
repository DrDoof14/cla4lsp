{
 "cells": [
  {
   "attachments": {},
   "cell_type": "markdown",
   "metadata": {},
   "source": [
    "### Free Homework\n",
    "<b>Implement the Inverse Power Method and the Deflation Method to compute the M smallest eigenvalues of a symmetric matrix.<b>"
   ]
  },
  {
   "attachments": {},
   "cell_type": "markdown",
   "metadata": {},
   "source": [
    "Importing the necessary libraries <br>\n",
    "The only library used in this notebook is `Numpy`"
   ]
  },
  {
   "cell_type": "code",
   "execution_count": 1,
   "metadata": {},
   "outputs": [],
   "source": [
    "import numpy as np"
   ]
  },
  {
   "cell_type": "code",
   "execution_count": 2,
   "metadata": {},
   "outputs": [],
   "source": [
    "#ignore warnings\n",
    "import warnings\n",
    "warnings.filterwarnings('ignore')"
   ]
  },
  {
   "attachments": {},
   "cell_type": "markdown",
   "metadata": {},
   "source": [
    "In order to test our code, we have created an irevertable matrix of size 5x5 <br>\n",
    "We have also created the initial eigenvector and eigenvalue in order to use in the inverse power method. "
   ]
  },
  {
   "cell_type": "code",
   "execution_count": 3,
   "metadata": {},
   "outputs": [],
   "source": [
    "size = 5  # Size of the matrix\n",
    "\n",
    "# Generate a random matrix\n",
    "matrix = np.random.rand(size, size)\n",
    "\n",
    "# Make the matrix symmetric\n",
    "matrix = (matrix + matrix.T) / 2\n",
    "\n",
    "# Add diagonal dominance\n",
    "diagonal = np.diag(np.sum(np.abs(matrix), axis=1))\n",
    "matrix = matrix + diagonal\n",
    "\n",
    "# Add positive definiteness\n",
    "eigenvalues, _ = np.linalg.eig(matrix)\n",
    "min_eigenvalue = np.min(eigenvalues)\n",
    "matrix = matrix + np.eye(size) * (abs(min_eigenvalue) + 1)\n",
    "\n",
    "\n",
    "# Generate a random initial eigenvector\n",
    "initial_eigenvector = np.random.rand(size)\n",
    "\n",
    "# Normalize the initial eigenvector\n",
    "initial_eigenvector = initial_eigenvector / np.linalg.norm(initial_eigenvector)\n",
    "\n",
    "#print(initial_eigenvector)"
   ]
  },
  {
   "attachments": {},
   "cell_type": "markdown",
   "metadata": {},
   "source": [
    "### Inverse power method"
   ]
  },
  {
   "attachments": {},
   "cell_type": "markdown",
   "metadata": {},
   "source": [
    "In the following cell, we have implemented the inverse power method. <br>\n",
    "The method takes as input the matrix, the initial eigenvector, the initial eigenvalue, the number of iterations and the tolerance. <br>\n",
    "The method returns the final eigenvalue and eigenvector. <br>\n",
    "The method works as follows: <br> \n",
    "It begins by taking the size of the matrix.<br>\n",
    "The eigenvalue and eigenvector variables are initialized to default values of 0.0 and None, respectively.<br>\n",
    "The algorithm enters a loop that runs for a maximum of max_iterations times.<br>\n",
    "Inside the loop, it attempts to solve the linear system using matrix inversion. It calculates the inverse of the matrix by subtracting the target eigenvalue multiplied by the identity matrix <br>and then using `np.linalg.inv` to compute the inverse.<br>\n",
    "If the matrix is singular and cannot be inverted, a `LinAlgError` is caught, and the method returns `None` value for both the eigenvalue and eigenvector.<br>\n",
    "If the linear system is solvable, the algorithm computes the next eigenvector approximation by multiplying the inverted matrix with the initial eigenvector using np.dot.<br>\n",
    "The next eigenvector is then normalized to ensure it has unit length using `np.linalg.norm`.<br>\n",
    "To approximate the eigenvalue, the algorithm computes the dot product of the next eigenvector with the matrix product of the matrix and the transposed next eigenvector using `np.dot`.<br>\n",
    "The algorithm checks for convergence by comparing the absolute difference between the new eigenvalue approximation and the previous eigenvalue with the specified tolerance. If the difference is below the tolerance, the algorithm considers the iteration converged and breaks out of the loop.<br>\n",
    "If convergence is not achieved, the eigenvalue and eigenvector are updated with the new values, and the algorithm proceeds to the next iteration.<br>\n",
    "The initial eigenvector is updated with the next eigenvector for the next iteration.<br>\n",
    "Finally, when the algorithm terminates (either due to convergence or reaching the maximum iterations), it returns the converged eigenvalue and eigenvector.<br>"
   ]
  },
  {
   "cell_type": "code",
   "execution_count": 4,
   "metadata": {},
   "outputs": [],
   "source": [
    "def inverse_power_method(matrix, initial_eigenvector ,target_value, max_iterations=100, tolerance=1e-6):\n",
    "    n = matrix.shape[0]\n",
    "    \n",
    "\n",
    "    eigenvalue = 0.0  # to initialize eigenvalue with a default value\n",
    "    eigenvector = None\n",
    "\n",
    "    for iteration in range(max_iterations):\n",
    "        # Solving the linear system using LU decomposition\n",
    "        try:\n",
    "            inverted_matrix = np.linalg.inv(matrix - target_value * np.eye(n))\n",
    "            next_vector = np.dot(inverted_matrix, initial_eigenvector)\n",
    "        except np.linalg.LinAlgError:\n",
    "            print(\"Matrix is singular. Inverse power method failed.\")\n",
    "            return None, None\n",
    "\n",
    "        # Normalizing the next vector\n",
    "        next_vector /= np.linalg.norm(next_vector)\n",
    "\n",
    "        # Compute the eigenvalue approximation\n",
    "        eigenvalue_next = np.dot(np.dot(next_vector, matrix), next_vector.transpose())\n",
    "\n",
    "        # Checking for convergence\n",
    "        if np.abs(eigenvalue_next - eigenvalue) < tolerance:\n",
    "            eigenvalue = eigenvalue_next\n",
    "            eigenvector = next_vector\n",
    "            break\n",
    "\n",
    "        # Updating the eigenvalue and eigenvector\n",
    "        eigenvalue = eigenvalue_next\n",
    "        eigenvector = next_vector\n",
    "\n",
    "        # Update the initial vector for the next iteration\n",
    "        initial_eigenvector = next_vector\n",
    "\n",
    "    return eigenvalue, eigenvector"
   ]
  },
  {
   "cell_type": "code",
   "execution_count": 5,
   "metadata": {},
   "outputs": [
    {
     "name": "stdout",
     "output_type": "stream",
     "text": [
      "Eigenvalue: 4.25998252193301\n"
     ]
    }
   ],
   "source": [
    "#using the inverse power method to find the smallest eigenvalue\n",
    "eigenvalue, eigenvector = inverse_power_method(matrix, initial_eigenvector, 1e-3)\n",
    "print(\"Eigenvalue:\", eigenvalue)\n"
   ]
  },
  {
   "cell_type": "code",
   "execution_count": 6,
   "metadata": {},
   "outputs": [
    {
     "name": "stdout",
     "output_type": "stream",
     "text": [
      "Eigenvalues: [4.25997883 4.72091611 5.51419501 5.53371377 7.60313517]\n"
     ]
    }
   ],
   "source": [
    "# to calculate the eigenvalues and eigenvectors of matrix using NumPy eigsh function in order to test our implementation of the inverse power method\n",
    "eigenvalues, eigenvectors = np.linalg.eigh(matrix)\n",
    "print(\"Eigenvalues:\", eigenvalues)"
   ]
  },
  {
   "attachments": {},
   "cell_type": "markdown",
   "metadata": {},
   "source": [
    "### Deflation  method  "
   ]
  },
  {
   "attachments": {},
   "cell_type": "markdown",
   "metadata": {},
   "source": [
    "We first use the power method in order to find the dominant eigenvalue and eigenvector. <br>\n",
    "Then use the output of the power method in the deflation method in order to find the smallest eigenvalue and eigenvector. <br>"
   ]
  },
  {
   "attachments": {},
   "cell_type": "markdown",
   "metadata": {},
   "source": [
    "In this part we first implement the power method.<br>\n",
    "The power_method function implements the power method algorithm to estimate the dominant eigenvalue of a given matrix.<br>\n",
    "The function takes as input the matrix, the initial eigenvector, the number of iterations, and the tolerance.<br>\n",
    "The algorithm works as follows:<br>\n",
    "The function begins by extracting the size of the matrix (assuming it's square) using `matrix.shape[0]`. <br>\n",
    "It initializes the eigenvector randomly using np.random.rand to generate random values between 0 and 1. The eigenvector is then normalized to have unit length using `np.linalg.norm`.<br>\n",
    "The algorithm enters a loop that runs for a maximum of max_iterations times.<br>\n",
    "Inside the loop, it computes a new eigenvector approximation by multiplying the matrix with the current eigenvector using `np.dot`. This step essentially represents the power method's iterative process.<br>\n",
    "The new eigenvector is then normalized to have unit length using `np.linalg.norm`.<br>\n",
    "The algorithm checks for convergence by comparing the norm (Euclidean distance) between the current eigenvector and the new eigenvector with the specified tolerance. If the difference falls below the tolerance, the algorithm considers the iteration converged and breaks out of the loop.<br>\n",
    "If convergence is not achieved, the new eigenvector becomes the current eigenvector, and the algorithm proceeds to the next iteration.<br>\n",
    "After the loop terminates, the estimated dominant eigenvalue is computed using the formula:<i> $$\\text{eigenvalue} = (new\\_eigenvector^\\intercal) \\cdot matrix \\cdot new\\_eigenvector$$ <i>  where $^T$  denotes the transpose operation and $\\cdot$ represents matrix multiplication.<br>\n",
    "\n"
   ]
  },
  {
   "cell_type": "code",
   "execution_count": 7,
   "metadata": {},
   "outputs": [],
   "source": [
    "# Power method\n",
    "def power_method(matrix, tolerance, max_iterations):\n",
    "    size = matrix.shape[0]\n",
    "    \n",
    "    # Random initial eigenvector\n",
    "    eigenvector = np.random.rand(size)\n",
    "    eigenvector = eigenvector / np.linalg.norm(eigenvector)\n",
    "\n",
    "    for _ in range(max_iterations):\n",
    "        new_eigenvector = np.dot(matrix, eigenvector)\n",
    "        new_eigenvector = new_eigenvector / np.linalg.norm(new_eigenvector)\n",
    "\n",
    "        # Check convergence\n",
    "        if np.linalg.norm(eigenvector - new_eigenvector) < tolerance:\n",
    "            break\n",
    "\n",
    "        eigenvector = new_eigenvector\n",
    "\n",
    "    eigenvalue = np.dot(np.dot(new_eigenvector.T, matrix), new_eigenvector)\n",
    "\n",
    "    return eigenvalue"
   ]
  },
  {
   "attachments": {},
   "cell_type": "markdown",
   "metadata": {},
   "source": [
    "Now, in the following cell we implement the deflation method in which we use the output of the power method.<br>\n",
    "The deflation function implements the deflation method for reducing the dimensionality of a matrix after computing an eigenvalue and eigenvector pair.<br>\n",
    "The algorithm works as follows:<br>\n",
    "The function begins by extracting the size of the matrix (assuming it's square) using `matrix.shape[0]`.<br>\n",
    "The eigenvector is converted to a `NumPy` array using `np.array`.<br>\n",
    "The outer product of the eigenvector is computed using `np.outer`. This creates a matrix, denoted as `P`, where each element `P[i][j]` is the product of the `i-th` element of the eigenvector and the `j-th` element of the eigenvector.<br>\n",
    "The matrix is updated with deflation by subtracting the product of the eigenvalue and `P` from the original matrix. This step modifies the matrix to remove the influence of the computed eigenvalue and eigenvector pair.<br>\n",
    "The row and column corresponding to the computed eigenvector are removed from the matrix using `np.delete`. This is done to reduce the dimensionality of the matrix after deflation.<br> In the provided code, the row and column with index 0 (assuming zero-based indexing) are removed.<br>\n",
    "The modified matrix, after deflation, is returned as the output of the function.<br>"
   ]
  },
  {
   "cell_type": "code",
   "execution_count": 8,
   "metadata": {},
   "outputs": [],
   "source": [
    "#deflation method \n",
    "def deflation(matrix, eigenvalue, eigenvector):\n",
    "    size = matrix.shape[0]\n",
    "\n",
    "    # Convert eigenvector to numpy array\n",
    "    eigenvector = np.array(eigenvector)\n",
    "\n",
    "    # Compute outer product\n",
    "    P = np.outer(eigenvector, eigenvector)\n",
    "\n",
    "    # Update matrix with deflation\n",
    "    matrix -= eigenvalue * P\n",
    "\n",
    "    # Remove row and column corresponding to the computed eigenvector\n",
    "    matrix = np.delete(matrix, (0), axis=0)\n",
    "    matrix = np.delete(matrix, (0), axis=1)\n",
    "\n",
    "    return matrix"
   ]
  },
  {
   "attachments": {},
   "cell_type": "markdown",
   "metadata": {},
   "source": [
    "In the following cell, we create a function to use both the power method and the delation method in order to find the smallest eigenvalue. <br>\n",
    "The function takes as input the matrix, the initial eigenvector, the number of iterations, and the tolerance.<br>\n",
    "The function initializes an empty list called `eigenvalues` to store the eigenvalues obtained during the iteration.<br>\n",
    "The function enters a loop that continues as long as the dimension of the matrix is greater than 1 (indicating there are more eigenvalues to compute).<br>\n",
    "Inside the loop, the power method is used to compute an eigenvalue estimate by calling the `power_method` function. The computed eigenvalue is stored in the `eigenvalues` list.<br>\n",
    "A random eigenvector is generated for the current dimension of the matrix using `np.random.rand`.<br> The eigenvector is then normalized to have unit length using `np.linalg.norm`. <br>\n",
    "The deflation method is applied to the matrix by calling the deflation function. The eigenvalue and eigenvector computed in the previous step are used to modify the matrix, removing the influence of the computed eigenvalue-eigenvector pair.<br>\n",
    "The dimension of the matrix is reduced after the `deflation`, and the loop repeats for the next iteration if the new dimension is still greater than 1.<br>\n",
    "After the loop terminates, the smallest eigenvalue is obtained by finding the minimum value in the `eigenvalues` list using `np.min`.<br>\n",
    "The smallest eigenvalue is returned as the output of the function.<br>"
   ]
  },
  {
   "cell_type": "code",
   "execution_count": 9,
   "metadata": {},
   "outputs": [],
   "source": [
    "#function to use both power method and deflation method to find the smallest eigenvalue\n",
    "\n",
    "def find_smallest_eigenvalue(matrix, tolerance, max_iterations):\n",
    "    eigenvalues = []\n",
    "\n",
    "    while matrix.shape[0] > 1:\n",
    "        eigenvalue = power_method(matrix, tolerance, max_iterations)\n",
    "        \n",
    "        eigenvalues.append(eigenvalue)\n",
    "        \n",
    "        eigenvector = np.random.rand(matrix.shape[0])\n",
    "        eigenvector = eigenvector / np.linalg.norm(eigenvector)\n",
    "        \n",
    "        matrix = deflation(matrix, eigenvalue, eigenvector)\n",
    "    \n",
    "    smallest_eigenvalue = np.min(eigenvalues)\n",
    "    return smallest_eigenvalue"
   ]
  },
  {
   "attachments": {},
   "cell_type": "markdown",
   "metadata": {},
   "source": [
    "In the following cell, we call the `find_smallest_eigenvalue` function in order to find the smallest eigenvalue of the matrix. <br>"
   ]
  },
  {
   "cell_type": "code",
   "execution_count": 10,
   "metadata": {},
   "outputs": [
    {
     "name": "stdout",
     "output_type": "stream",
     "text": [
      "Smallest Eigenvalue: 5.114666598539619\n"
     ]
    }
   ],
   "source": [
    "#using the function to find the smallest eigenvalue\n",
    "smallest_eigenvalue = find_smallest_eigenvalue(matrix, tolerance=1e-3, max_iterations=100)\n",
    "print(\"Smallest Eigenvalue:\", smallest_eigenvalue)"
   ]
  }
 ],
 "metadata": {
  "kernelspec": {
   "display_name": "base",
   "language": "python",
   "name": "python3"
  },
  "language_info": {
   "codemirror_mode": {
    "name": "ipython",
    "version": 3
   },
   "file_extension": ".py",
   "mimetype": "text/x-python",
   "name": "python",
   "nbconvert_exporter": "python",
   "pygments_lexer": "ipython3",
   "version": "3.9.7"
  },
  "orig_nbformat": 4
 },
 "nbformat": 4,
 "nbformat_minor": 2
}
